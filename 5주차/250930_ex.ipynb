{
 "cells": [
  {
   "metadata": {},
   "cell_type": "markdown",
   "source": [
    "# This is a sample Jupyter Notebook\n",
    "\n",
    "Below is an example of a code cell. \n",
    "Put your cursor into the cell and press Shift+Enter to execute it and select the next one, or click 'Run Cell' button.\n",
    "\n",
    "Press Double Shift to search everywhere for classes, files, tool windows, actions, and settings.\n",
    "\n",
    "To learn more about Jupyter Notebooks in PyCharm, see [help](https://www.jetbrains.com/help/pycharm/ipython-notebook-support.html).\n",
    "For an overview of PyCharm, go to Help -> Learn IDE features or refer to [our documentation](https://www.jetbrains.com/help/pycharm/getting-started.html)."
   ],
   "id": "8a77807f92f26ee"
  },
  {
   "metadata": {
    "ExecuteTime": {
     "end_time": "2025-09-30T02:06:28.648166Z",
     "start_time": "2025-09-30T02:06:25.253721Z"
    }
   },
   "cell_type": "code",
   "source": [
    "print('2025-09-30, 21114073, 차경호\\n')\n",
    "\n",
    "a, b = int(input('밎변의 길이를 입력하세요')), int(input('높이를 입력하세요'))\n",
    "c = (a**2 + b**2) ** 0.5\n",
    "print(f'밑변이 {a}이고, 높이가 {b}인 적각삼각형의 빗변의 길이는 {c}이다')"
   ],
   "id": "25298a2e084c0ed1",
   "outputs": [
    {
     "name": "stdout",
     "output_type": "stream",
     "text": [
      "2025-09-30, 21114073, 차경호\n",
      "\n",
      "밑변이 5이고, 높이가 9인 적각삼각형의 빗변의 길이는 10.295630140987이다\n"
     ]
    }
   ],
   "execution_count": 63
  },
  {
   "metadata": {
    "ExecuteTime": {
     "end_time": "2025-09-30T01:13:54.816809Z",
     "start_time": "2025-09-30T01:13:54.813931Z"
    }
   },
   "cell_type": "code",
   "source": "",
   "id": "a35a5e13130ff263",
   "outputs": [],
   "execution_count": null
  },
  {
   "metadata": {
    "ExecuteTime": {
     "end_time": "2025-09-30T01:13:55.853495Z",
     "start_time": "2025-09-30T01:13:55.851447Z"
    }
   },
   "cell_type": "code",
   "source": "",
   "id": "b3173354d36b8400",
   "outputs": [],
   "execution_count": null
  },
  {
   "metadata": {
    "ExecuteTime": {
     "end_time": "2025-09-30T00:54:49.941709Z",
     "start_time": "2025-09-30T00:54:49.936986Z"
    }
   },
   "cell_type": "code",
   "outputs": [
    {
     "name": "stdout",
     "output_type": "stream",
     "text": [
      "2025-09-30, 21114073, 차경호\n",
      "주류 구매 가능\n"
     ]
    }
   ],
   "execution_count": 8,
   "source": [
    "print('2025-09-30, 21114073, 차경호\\n')\n",
    "\n",
    "age = 19\n",
    "if age >= 19:\n",
    "    print('주류 구매 가능')\n",
    "else:\n",
    "    print('주류 구매 불가능')"
   ],
   "id": "d6941df5d09d1de7"
  },
  {
   "metadata": {
    "ExecuteTime": {
     "end_time": "2025-09-30T02:06:52.679433Z",
     "start_time": "2025-09-30T02:06:46.397555Z"
    }
   },
   "cell_type": "code",
   "source": [
    "print('2025-09-30, 21114073, 차경호\\n')\n",
    "\n",
    "age = int(input('나이를 입력하세요 : '))\n",
    "age = 19\n",
    "if age >= 19:\n",
    "    print('주류 구매 가능')\n",
    "else:\n",
    "    print('주류 구매 불가능')"
   ],
   "id": "aa41668968a46314",
   "outputs": [
    {
     "name": "stdout",
     "output_type": "stream",
     "text": [
      "2025-09-30, 21114073, 차경호\n",
      "\n",
      "주류 구매 가능\n"
     ]
    }
   ],
   "execution_count": 64
  },
  {
   "metadata": {
    "ExecuteTime": {
     "end_time": "2025-09-30T01:12:56.608849Z",
     "start_time": "2025-09-30T01:12:56.603679Z"
    }
   },
   "cell_type": "code",
   "source": [
    "a = 0.1 + 0.1 + 0.1\n",
    "b = 0.3\n",
    "\n",
    "print(a)\n",
    "print(a==b)"
   ],
   "id": "492f101f47492290",
   "outputs": [
    {
     "name": "stdout",
     "output_type": "stream",
     "text": [
      "0.30000000000000004\n",
      "False\n"
     ]
    }
   ],
   "execution_count": 35
  },
  {
   "metadata": {
    "ExecuteTime": {
     "end_time": "2025-09-30T01:24:03.773421Z",
     "start_time": "2025-09-30T01:24:03.769019Z"
    }
   },
   "cell_type": "code",
   "source": [
    "print('2025-09-30, 21114073, 차경호\\n')\n",
    "\n",
    "amount = 30000\n",
    "if amount > 20000:\n",
    "    print('할인 쿠폰이 발행되었습니다')"
   ],
   "id": "2a061a429c5cabda",
   "outputs": [
    {
     "name": "stdout",
     "output_type": "stream",
     "text": [
      "2025-09-30, 21114073, 차경호\n",
      "할인 쿠폰이 발행되었습니다\n"
     ]
    }
   ],
   "execution_count": 37
  },
  {
   "metadata": {
    "ExecuteTime": {
     "end_time": "2025-09-30T02:08:51.407540Z",
     "start_time": "2025-09-30T02:08:49.050945Z"
    }
   },
   "cell_type": "code",
   "source": [
    "print('2025-09-30, 21114073, 차경호\\n')\n",
    "\n",
    "weight = float(input('짐의 무게는 얼마입니까? '))\n",
    "if weight > 20:\n",
    "     print('무거운 집은 20,000원을 내셔야 합니다.')\n",
    "else:\n",
    "    print('짐에 대한 수수료는 없습니다.')\n",
    "\n",
    "print('갑사합니다.')"
   ],
   "id": "897669c86ec0936f",
   "outputs": [
    {
     "name": "stdout",
     "output_type": "stream",
     "text": [
      "2025-09-30, 21114073, 차경호\n",
      "\n",
      "무거운 집은 20,000원을 내셔야 합니다.\n",
      "갑사합니다.\n"
     ]
    }
   ],
   "execution_count": 67
  },
  {
   "metadata": {
    "ExecuteTime": {
     "end_time": "2025-09-30T02:10:27.925698Z",
     "start_time": "2025-09-30T02:10:22.130277Z"
    }
   },
   "cell_type": "code",
   "source": [
    "print('2025-09-30, 21114073, 차경호\\n')\n",
    "\n",
    "num = int(input('input number '))\n",
    "if num % 2 == 0:\n",
    "    print(f'{num}은 짝수입니다.')\n",
    "else:\n",
    "    print(f'{num}은 홀수입니다.')"
   ],
   "id": "f20b3195e77d4fd9",
   "outputs": [
    {
     "name": "stdout",
     "output_type": "stream",
     "text": [
      "2025-09-30, 21114073, 차경호\n",
      "\n",
      "20250930은 짝수입니다.\n"
     ]
    }
   ],
   "execution_count": 69
  },
  {
   "metadata": {
    "ExecuteTime": {
     "end_time": "2025-09-30T01:53:15.578067Z",
     "start_time": "2025-09-30T01:53:07.327224Z"
    }
   },
   "cell_type": "code",
   "source": [
    "print('2025-09-30, 21114073, 차경호\\n')\n",
    "\n",
    "num = int(input('input number '))\n",
    "if num % 7 == 0:\n",
    "    print(f'{num}은 7의 배수 입니다.')\n",
    "else:\n",
    "    print(f'{num}은 7의 배수가 아닙니다.')"
   ],
   "id": "8997d71a2425d884",
   "outputs": [
    {
     "name": "stdout",
     "output_type": "stream",
     "text": [
      "2025-09-30, 21114073, 차경호\n",
      "\n",
      "20250930은 7의 배수 입니다.\n"
     ]
    }
   ],
   "execution_count": 57
  },
  {
   "metadata": {
    "ExecuteTime": {
     "end_time": "2025-09-30T02:40:24.560820Z",
     "start_time": "2025-09-30T02:40:21.172263Z"
    }
   },
   "cell_type": "code",
   "source": [
    "print('2025-09-30, 21114073, 차경호\\n')\n",
    "\n",
    "sales = int(input('구입 금액을 입력하시오: '))\n",
    "if sales > 100000:\n",
    "    sales *= 0.95\n",
    "print(f'지불 금액 {sales}')"
   ],
   "id": "1526dc3003bc134b",
   "outputs": [
    {
     "name": "stdout",
     "output_type": "stream",
     "text": [
      "2025-09-30, 21114073, 차경호\n",
      "\n",
      "지불 금액 95095.0\n"
     ]
    }
   ],
   "execution_count": 82
  },
  {
   "metadata": {
    "ExecuteTime": {
     "end_time": "2025-09-30T04:49:26.342896Z",
     "start_time": "2025-09-30T04:49:18.253145Z"
    }
   },
   "cell_type": "code",
   "source": [
    "print('2025-09-30, 21114073, 차경호\\n')\n",
    "\n",
    "credits = float(input('이수한 학점수를 입력하시오: '))\n",
    "gpa = float(input('평점을 입력하시오: '))\n",
    "\n",
    "if credits >= 140 and gpa >= 2.0:\n",
    "    print('졸업 가능합니다!')\n",
    "else:\n",
    "    print('졸업이 힘듭니다!')"
   ],
   "id": "abc3ea7d447130f6",
   "outputs": [
    {
     "name": "stdout",
     "output_type": "stream",
     "text": [
      "2025-09-30, 21114073, 차경호\n",
      "\n",
      "졸업이 힘듭니다!\n"
     ]
    }
   ],
   "execution_count": 6
  },
  {
   "metadata": {
    "ExecuteTime": {
     "end_time": "2025-09-30T04:53:41.349463Z",
     "start_time": "2025-09-30T04:53:35.354200Z"
    }
   },
   "cell_type": "code",
   "source": [
    "print('2025-09-30, 21114073, 차경호\\n')\n",
    "\n",
    "year = int(input('연도를 입력하세요: '))\n",
    "if (year % 4 == 0 and year % 100 != 0) or year % 400 == 0:\n",
    "    print(f'{year}년은 윤년입니다.')\n",
    "else:\n",
    "    print(f'{year}년은 윤년이 아닙니다.')"
   ],
   "id": "567bb2af00c92879",
   "outputs": [
    {
     "name": "stdout",
     "output_type": "stream",
     "text": [
      "2025-09-30, 21114073, 차경호\n",
      "\n",
      "2002년은 윤년이 아닙니다.\n"
     ]
    }
   ],
   "execution_count": 18
  },
  {
   "metadata": {
    "ExecuteTime": {
     "end_time": "2025-09-30T04:53:50.711019Z",
     "start_time": "2025-09-30T04:53:42.305051Z"
    }
   },
   "cell_type": "code",
   "source": "temp = input('연도를 입력하세요: ')",
   "id": "aae70b5ee57df91b",
   "outputs": [],
   "execution_count": 19
  }
 ],
 "metadata": {
  "kernelspec": {
   "display_name": "Python 3",
   "language": "python",
   "name": "python3"
  },
  "language_info": {
   "codemirror_mode": {
    "name": "ipython",
    "version": 2
   },
   "file_extension": ".py",
   "mimetype": "text/x-python",
   "name": "python",
   "nbconvert_exporter": "python",
   "pygments_lexer": "ipython2",
   "version": "2.7.6"
  }
 },
 "nbformat": 4,
 "nbformat_minor": 5
}
